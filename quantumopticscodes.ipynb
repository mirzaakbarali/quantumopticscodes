{
 "cells": [
  {
   "cell_type": "markdown",
   "id": "38e128ea",
   "metadata": {},
   "source": [
    "## Atom Field Interaction\n",
    "We can think of atom field interaction in two scenarios. First we consider field as classical and in second we consider the field as quantum mechanical. To begin, let us suppose that the Hamiltonian of an electron bound to an atom in the absence of external fields, in the configuration representation, is given by:\n",
    "\\begin{align}\n",
    "\\hat{H}_{0} = \\frac{1}{2m}\\hat{\\bf{P}}^{2} + V(r)\n",
    "\\end{align}"
   ]
  },
  {
   "cell_type": "markdown",
   "id": "1cd592a5",
   "metadata": {},
   "source": [
    "### Interaction of Atom with Classical Field\n",
    "Within the dipole approximation, the interaction between field and atom is given by:\n",
    "\\begin{align}\n",
    "\\hat{H} = \\hat{H}_{0} - \\hat{d}\\cdot{\\bf{E}}(t)\n",
    "\\end{align}\n",
    "where ${\\bf{E}}(t) = {\\bf{E}}_0\\cos(\\omega t)$. The initial state of the atom is $|i\\rangle$ where $\\hat{H}_{0}|i\\rangle = E_{i}|i\\rangle$. For times $t>0$ we expand the state vector $|\\psi(t)\\rangle$ in terms of the complete set of uncoupled atomic states $|k\\rangle$ with normalized time dependent amplitudes $C_{k}(t)$:\n",
    "\\begin{align} |\\psi(t)\\rangle =  \\sum_{k}C_{k}(t)e^{-iE_{k}t/\\hbar}|k\\rangle \\end{align}\n",
    "Solving the time dependent Schrodinger Eq:\n",
    "\\begin{align} i\\hbar \\frac{\\partial|\\psi(t)\\rangle}{\\partial t} = \\hat{H} |\\psi(t)\\rangle\n",
    "\\end{align}\n",
    "gives first order transition probabilities:\n",
    "\\begin{align}\n",
    "P_{i\\rightarrow f}^{(1)}(t) = \\left| C_{f}^{(1)}(t)\\right| = \\frac{\\left|(\\hat{\\bf{d}}\\cdot{\\bf{E}}_{0})_{fi}\\right|^2}{\\hbar^2} \\frac{\\sin^2(\\Delta t/2)}{\\Delta^2}\n",
    "\\end{align}\n",
    "where $\\Delta = \\omega - \\omega_{fi}$ is detuning between the radiation field and the atomic transition. "
   ]
  },
  {
   "cell_type": "markdown",
   "id": "feeb43d4",
   "metadata": {},
   "source": [
    "#### Exact Resonance\n",
    "$\\Delta = 0$, we can use the limit: $\\lim_{x\\rightarrow 0} \\frac{\\sin(x)}{x}=1$\n",
    "\\begin{align}\n",
    "P_{i\\rightarrow f}^{(1)}(t) =  \\frac{\\left|(\\hat{\\bf{d}}\\cdot{\\bf{E}}_{0})_{fi}\\right|^2}{4\\hbar^2} t^2\n",
    "\\end{align}"
   ]
  },
  {
   "cell_type": "markdown",
   "id": "a5e34f69",
   "metadata": {},
   "source": [
    "#### Non-Exact Resonance\n",
    "$\\Delta \\neq 0$, maximum is given for $\\sin^2(\\Delta t/2)=1$:\n",
    "\\begin{align}\n",
    "P_{i\\rightarrow f}^{(1)}(t) =  \\frac{\\left|(\\hat{\\bf{d}}\\cdot{\\bf{E}}_{0})_{fi}\\right|^2}{\\hbar^2}\\frac{1}{\\Delta^2}\n",
    "\\end{align}"
   ]
  }
 ],
 "metadata": {
  "kernelspec": {
   "display_name": "Python 3 (ipykernel)",
   "language": "python",
   "name": "python3"
  },
  "language_info": {
   "codemirror_mode": {
    "name": "ipython",
    "version": 3
   },
   "file_extension": ".py",
   "mimetype": "text/x-python",
   "name": "python",
   "nbconvert_exporter": "python",
   "pygments_lexer": "ipython3",
   "version": "3.11.4"
  }
 },
 "nbformat": 4,
 "nbformat_minor": 5
}
