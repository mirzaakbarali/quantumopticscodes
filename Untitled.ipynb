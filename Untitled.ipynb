{
 "cells": [
  {
   "cell_type": "markdown",
   "id": "c7d7c213",
   "metadata": {},
   "source": [
    "### Important Libraries"
   ]
  },
  {
   "cell_type": "code",
   "execution_count": 48,
   "id": "ad05905f",
   "metadata": {},
   "outputs": [],
   "source": [
    "import numpy as np\n",
    "import matplotlib.pyplot as plt\n",
    "import matplotlib as mpl\n",
    "import math\n",
    "from scipy.spatial.distance import pdist\n",
    "from sklearn.linear_model import LinearRegression\n",
    "import seaborn as sn"
   ]
  },
  {
   "cell_type": "markdown",
   "id": "fd224846",
   "metadata": {},
   "source": [
    "### Setting Fig Parameters\n"
   ]
  },
  {
   "cell_type": "code",
   "execution_count": 49,
   "id": "999ccd01",
   "metadata": {},
   "outputs": [],
   "source": [
    "# plt.rcParams.update({\n",
    "#         \"pgf.texsystem\": \"pdflatex\",\n",
    "#         'font.family': 'serif',\n",
    "#         'text.usetex': True,\n",
    "#         'pgf.rcfonts': False,\n",
    "#         'axes.linewidth': 2,\n",
    "#         'lines.linewidth': 3,\n",
    "#         'figure.figsize': (6,4)      # adjust this value to resize the figure (width, height)\n",
    "#     })\n",
    "# plt.rc('font', size=12)\n",
    "# plt.rc('axes', labelsize=12)\n",
    "# plt.rc('xtick', labelsize=14)\n",
    "# plt.rc('ytick', labelsize=14)"
   ]
  },
  {
   "cell_type": "code",
   "execution_count": 102,
   "id": "a3d54791",
   "metadata": {},
   "outputs": [],
   "source": [
    "def myarrowplot(x,y,xtick_position,xtick_label,ytick_position,ytick_label):\n",
    "    rc = {\"xtick.direction\" : \"inout\", \"ytick.direction\" : \"inout\",\n",
    "          \"xtick.major.size\" : 5, \"ytick.major.size\" : 5,}\n",
    "    with plt.rc_context(rc):\n",
    "        fig, ax = plt.subplots()\n",
    "        ax.plot(x, y)\n",
    "\n",
    "        ax.spines['left'].set_position('zero')\n",
    "        ax.spines['right'].set_visible(False)\n",
    "        ax.spines['bottom'].set_position('zero')\n",
    "        ax.spines['top'].set_visible(False)\n",
    "        ax.xaxis.set_ticks_position('bottom')\n",
    "        ax.yaxis.set_ticks_position('left')\n",
    "\n",
    "        # make arrows\n",
    "        ax.plot((1), (0), ls=\"\", marker=\">\", ms=10, color=\"k\",\n",
    "                transform=ax.get_yaxis_transform(), clip_on=False)\n",
    "        ax.plot((0), (1), ls=\"\", marker=\"^\", ms=10, color=\"k\",\n",
    "                transform=ax.get_xaxis_transform(), clip_on=False)\n",
    "        ax.set_xticks(xtick_position,xtick_label,fontsize=20)\n",
    "        ax.set_yticks(ytick_position,ytick_label,fontsize=20)\n",
    "        plt.rcParams.update({\n",
    "            \"pgf.texsystem\": \"pdflatex\",\n",
    "            'font.family': 'serif',\n",
    "            'text.usetex': True,\n",
    "            'pgf.rcfonts': False,\n",
    "            'axes.linewidth': 2,\n",
    "            'lines.linewidth': 3,\n",
    "            'figure.figsize': (6,4)      # adjust this value to resize the figure (width, height)\n",
    "        })\n",
    "        plt.rc('font', size=12)\n",
    "        plt.rc('axes', labelsize=12)\n",
    "        plt.rc('xtick', labelsize=14)\n",
    "        plt.rc('ytick', labelsize=14)\n",
    "        return plt\n"
   ]
  },
  {
   "cell_type": "code",
   "execution_count": 116,
   "id": "08dc5eaf",
   "metadata": {},
   "outputs": [
    {
     "ename": "TypeError",
     "evalue": "draw() takes 0 positional arguments but 1 was given",
     "output_type": "error",
     "traceback": [
      "\u001b[0;31m---------------------------------------------------------------------------\u001b[0m",
      "\u001b[0;31mTypeError\u001b[0m                                 Traceback (most recent call last)",
      "Cell \u001b[0;32mIn[116], line 10\u001b[0m\n\u001b[1;32m      7\u001b[0m ytick_label     \u001b[38;5;241m=\u001b[39m [\u001b[38;5;124mr\u001b[39m\u001b[38;5;124m'\u001b[39m\u001b[38;5;124m$s^2$\u001b[39m\u001b[38;5;124m'\u001b[39m]\n\u001b[1;32m      9\u001b[0m fig1 \u001b[38;5;241m=\u001b[39m myarrowplot(x,y,xtick_position,xtick_label,ytick_position,ytick_label)\n\u001b[0;32m---> 10\u001b[0m fig1\u001b[38;5;241m.\u001b[39mdraw([\u001b[38;5;241m0\u001b[39m,\u001b[38;5;241m1\u001b[39m,\u001b[38;5;241m1\u001b[39m,\u001b[38;5;241m1\u001b[39m])\n",
      "\u001b[0;31mTypeError\u001b[0m: draw() takes 0 positional arguments but 1 was given"
     ]
    },
    {
     "data": {
      "image/png": "[encoded data removed]",
      "text/plain": [
       "<Figure size 600x400 with 1 Axes>"
      ]
     },
     "metadata": {},
     "output_type": "display_data"
    }
   ],
   "source": [
    "x = np.linspace(0,3*np.pi,100)\n",
    "y = np.sin(x)**2\n",
    "\n",
    "xtick_position  = [1]\n",
    "xtick_label     = [r'$P^2$']\n",
    "ytick_position  = [1]\n",
    "ytick_label     = [r'$s^2$']\n",
    "\n",
    "fig1 = myarrowplot(x,y,xtick_position,xtick_label,ytick_position,ytick_label)\n",
    "fig1.plot([0,,1,1], color = 'k', linestyle = '-') \n",
    "\n"
   ]
  },
  {
   "cell_type": "code",
   "execution_count": null,
   "id": "e84eb48e",
   "metadata": {},
   "outputs": [],
   "source": []
  },
  {
   "cell_type": "code",
   "execution_count": null,
   "id": "bd55c21a",
   "metadata": {},
   "outputs": [],
   "source": []
  }
 ],
 "metadata": {
  "kernelspec": {
   "display_name": "Python 3 (ipykernel)",
   "language": "python",
   "name": "python3"
  },
  "language_info": {
   "codemirror_mode": {
    "name": "ipython",
    "version": 3
   },
   "file_extension": ".py",
   "mimetype": "text/x-python",
   "name": "python",
   "nbconvert_exporter": "python",
   "pygments_lexer": "ipython3",
   "version": "3.11.4"
  }
 },
 "nbformat": 4,
 "nbformat_minor": 5
}
